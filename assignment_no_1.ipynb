{
  "nbformat": 4,
  "nbformat_minor": 0,
  "metadata": {
    "colab": {
      "provenance": []
    },
    "kernelspec": {
      "name": "python3",
      "display_name": "Python 3"
    },
    "language_info": {
      "name": "python"
    }
  },
  "cells": [
    {
      "cell_type": "code",
      "execution_count": null,
      "metadata": {
        "id": "1FdZH5hKqXkI"
      },
      "outputs": [],
      "source": []
    },
    {
      "cell_type": "markdown",
      "source": [
        "#Take input A and B and print their sum, mul, div, square of the nos.\n",
        "\n"
      ],
      "metadata": {
        "id": "HRv_cfhaqhz-"
      }
    },
    {
      "cell_type": "markdown",
      "source": [
        "#addition of two numbers"
      ],
      "metadata": {
        "id": "jQiQiUitBJVS"
      }
    },
    {
      "cell_type": "code",
      "source": [
        "A=int(input (\"enter the value of A: \"))\n",
        "B=int(input(\"enter the value of B: \"))\n",
        "\n",
        "print(f\"sum of A and B is: {A+B}\")"
      ],
      "metadata": {
        "colab": {
          "base_uri": "https://localhost:8080/"
        },
        "id": "hoREGDh_uFgh",
        "outputId": "01cdefe4-a0c2-45ae-e3c9-ff5a008ce982"
      },
      "execution_count": 3,
      "outputs": [
        {
          "output_type": "stream",
          "name": "stdout",
          "text": [
            "enter the value of A: 10\n",
            "enter the value of B: 10\n",
            "sum of A and B is: 20\n"
          ]
        }
      ]
    },
    {
      "cell_type": "markdown",
      "source": [
        "#subtraction of two numbers"
      ],
      "metadata": {
        "id": "edo1M98EBgpd"
      }
    },
    {
      "cell_type": "code",
      "source": [
        "A=int(input (\"enter the value of A: \"))\n",
        "B=int(input(\"enter the value of B: \"))\n",
        "\n",
        "print(f\"sum of A and B is: {A-B}\")"
      ],
      "metadata": {
        "colab": {
          "base_uri": "https://localhost:8080/"
        },
        "id": "1AtaDoXPBiqg",
        "outputId": "21e2c8d6-d410-4475-d566-b352f94a789d"
      },
      "execution_count": 4,
      "outputs": [
        {
          "output_type": "stream",
          "name": "stdout",
          "text": [
            "enter the value of A: 15\n",
            "enter the value of B: 10\n",
            "sum of A and B is: 5\n"
          ]
        }
      ]
    },
    {
      "cell_type": "markdown",
      "source": [
        "#multiplication of two numbers"
      ],
      "metadata": {
        "id": "5RGXUzCVB9AL"
      }
    },
    {
      "cell_type": "code",
      "source": [
        "A=int(input (\"enter the value of A: \"))\n",
        "B=int(input(\"enter the value of B: \"))\n",
        "\n",
        "print(f\"sum of A and B is: {A*B}\")"
      ],
      "metadata": {
        "colab": {
          "base_uri": "https://localhost:8080/"
        },
        "id": "UHvuir4zBm3M",
        "outputId": "997189a8-696b-44d1-d627-7729243e63c5"
      },
      "execution_count": 20,
      "outputs": [
        {
          "output_type": "stream",
          "name": "stdout",
          "text": [
            "enter the value of A: 10\n",
            "enter the value of B: 2\n",
            "sum of A and B is: 20\n"
          ]
        }
      ]
    },
    {
      "cell_type": "markdown",
      "source": [
        "#square of two numbers "
      ],
      "metadata": {
        "id": "tdqnANZECV41"
      }
    },
    {
      "cell_type": "code",
      "source": [
        "A=int(input (\"enter the value of A: \"))\n",
        "B=int(input(\"enter the value of B: \"))\n",
        "\n",
        "print(f\"square of A is: {A**2}\")\n",
        "\n",
        "\n",
        "print(f\"square of B is: {B**2}\")\n"
      ],
      "metadata": {
        "colab": {
          "base_uri": "https://localhost:8080/"
        },
        "id": "tsgxQgZbILzJ",
        "outputId": "a5c9ecbc-00a3-415c-960e-c6fdf3338e41"
      },
      "execution_count": 36,
      "outputs": [
        {
          "output_type": "stream",
          "name": "stdout",
          "text": [
            "enter the value of A: 10\n",
            "enter the value of B: 5\n",
            "square of A is: 100\n",
            "square of B is: 25\n"
          ]
        }
      ]
    },
    {
      "cell_type": "markdown",
      "source": [
        "# How many reserve keywords are there in python and why we should not use them as a variable *name*"
      ],
      "metadata": {
        "id": "FX0ofuZsLFtX"
      }
    },
    {
      "cell_type": "markdown",
      "source": [],
      "metadata": {
        "id": "mpAtCYjXMHPA"
      }
    },
    {
      "cell_type": "markdown",
      "source": [
        "#We cannot use a keyword as a variable name, function name or any other identifier. They are used to define the syntax and structure of the Python language.\n",
        "\n",
        "In Python, keywords are case sensitive.\n",
        "\n",
        " This number can vary slightly over the course of time.\n",
        "\n",
        "All the keywords except True, False and None are in lowercase and they must be written as they are. The list of all the keywords is given below.\n",
        "\n",
        "1.False  2.\tawait  3.  \telse  4.  \timport\t   5.   pass\n",
        "  6.None\t    7    .break\t8. except\t9.in10.\traise\n",
        "11.True 12\t.class\t13.finally\t14.is 15.\treturn\n",
        "16.and\t17.continue\t18.for\t19.lambda\t20.try\n",
        "21.as\t22.def\t23.from\t24.nonlocal\t25.while\n",
        "26.assert\t27.del\t28.global\t29.not\t30.with\n",
        "async\telif\t31.if\t32.or\t33.yield\n",
        "\n",
        "\n",
        "\n"
      ],
      "metadata": {
        "id": "IYPTVah7MJaO"
      }
    },
    {
      "cell_type": "code",
      "source": [],
      "metadata": {
        "id": "0gv23LZxptKB"
      },
      "execution_count": null,
      "outputs": []
    },
    {
      "cell_type": "markdown",
      "source": [
        "#Create email ids with the user inputs. in the following format - lastname.firstname@gmail.com"
      ],
      "metadata": {
        "id": "1hGXm4YwqW2y"
      }
    },
    {
      "cell_type": "code",
      "source": [
        "lastname=input(\"enter the lastname\")\n",
        "firstname=input(\"enter the fistname\")\n",
        "print(f\"{lastname}.{firstname}@gmail.com\")\n"
      ],
      "metadata": {
        "colab": {
          "base_uri": "https://localhost:8080/"
        },
        "id": "hgKwglB9qZbE",
        "outputId": "9b6bb239-8561-4533-f234-b705382bbe3b"
      },
      "execution_count": 5,
      "outputs": [
        {
          "output_type": "stream",
          "name": "stdout",
          "text": [
            "enter the lastnametayade\n",
            "enter the fistnamepankaj\n",
            "tayade.pankaj@gmail.com\n"
          ]
        }
      ]
    },
    {
      "cell_type": "markdown",
      "source": [
        "#Try to print the following lines -\n",
        "Hi I'm Sunny\n",
        "My address is 22\\3\n",
        "I earn 20$ daily.\n"
      ],
      "metadata": {
        "id": "ZrZpw5KxtoOE"
      }
    },
    {
      "cell_type": "code",
      "source": [
        "name=input(\"enter the name\")\n",
        "\n",
        "address=input(\"enter the address\")\n",
        "\n",
        "earn=input(\"enter the daily earn\")\n",
        " \n",
        "\n",
        "\n",
        "print(f\"hi im {name}\")\n",
        "print(f\"my address is {address} \")\n",
        "print(f\"i earn {earn} $ daily\")\n"
      ],
      "metadata": {
        "colab": {
          "base_uri": "https://localhost:8080/"
        },
        "id": "iMzMVFaqtrgk",
        "outputId": "8e489491-461f-48f2-d3d9-dc63c5c1c7b5"
      },
      "execution_count": 11,
      "outputs": [
        {
          "output_type": "stream",
          "name": "stdout",
          "text": [
            "enter the namesunny\n",
            "enter the address22/3\n",
            "enter the daily earn20\n",
            "hi im sunny\n",
            "my address is 22/3 \n",
            "i earn 20 $ daily\n"
          ]
        }
      ]
    },
    {
      "cell_type": "markdown",
      "source": [
        "#6 Take user input (name, address, date of birth etc) to fill a form for your college and print their email IDs"
      ],
      "metadata": {
        "id": "PpVKIiw6xWBg"
      }
    },
    {
      "cell_type": "code",
      "source": [
        "name=input(\"enter the name: \")\n",
        "address=input(\"enter the address: \")\n",
        "year_of_birth = input(\"year_of_birth: \")\n",
        "\n",
        "age = 2022 - int(year_of_birth)\n",
        "print(f\"{name} is of age: {age}\")\n",
        "lastname=input(\"enter the lastname\")\n",
        "firstname=input(\"enter the fistname\")\n",
        "print(f\"{lastname}.{firstname}@gmail.com\")\n",
        "\n",
        "\n"
      ],
      "metadata": {
        "colab": {
          "base_uri": "https://localhost:8080/"
        },
        "id": "tlZjublUxYRw",
        "outputId": "64ace84e-4a25-4c15-a232-c046ed07f855"
      },
      "execution_count": 33,
      "outputs": [
        {
          "output_type": "stream",
          "name": "stdout",
          "text": [
            "enter the name: pankaj\n",
            "enter the address: akola\n",
            "year_of_birth: 1997\n",
            "pankaj is of age: 25\n",
            "enter the lastnametayade\n",
            "enter the fistnamepankaj\n",
            "tayade.pankaj@gmail.com\n"
          ]
        }
      ]
    },
    {
      "cell_type": "markdown",
      "source": [
        "#7 Convert the following -\n",
        "\"22.4\" into integer\n",
        "\n",
        "\n",
        "\"22\" into complex no.\n"
      ],
      "metadata": {
        "id": "KmX9OSfz4TWX"
      }
    },
    {
      "cell_type": "code",
      "source": [
        "A = 22.4\n",
        "print(f\"data type before: {type(A)}, value of A: {A}\")\n",
        "A = int(A)\n",
        "print(f\"data type after: {type(A)}, value of A: {A}\")"
      ],
      "metadata": {
        "colab": {
          "base_uri": "https://localhost:8080/"
        },
        "id": "ZTxqcY9a4jUy",
        "outputId": "1ae7be6f-fffd-4dce-dcdb-1bb3ac654466"
      },
      "execution_count": 34,
      "outputs": [
        {
          "output_type": "stream",
          "name": "stdout",
          "text": [
            "data type before: <class 'float'>, value of A: 22.4\n",
            "data type after: <class 'int'>, value of A: 22\n"
          ]
        }
      ]
    }
  ]
}